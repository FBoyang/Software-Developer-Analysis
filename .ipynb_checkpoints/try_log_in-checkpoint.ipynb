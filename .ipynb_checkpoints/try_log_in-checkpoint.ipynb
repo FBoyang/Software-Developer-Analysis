{
 "cells": [
  {
   "cell_type": "code",
   "execution_count": null,
   "metadata": {
    "collapsed": true
   },
   "outputs": [],
   "source": []
  },
  {
   "cell_type": "code",
   "execution_count": 9,
   "metadata": {},
   "outputs": [],
   "source": [
    "import time \n",
    "from bs4 import BeautifulSoup\n",
    "from selenium import webdriver\n",
    "from selenium.webdriver.common.keys import Keys\n",
    "from urllib.request import Request, urlopen\n",
    "\n",
    "driver  = webdriver.Chrome(executable_path=r\"C:\\Users\\fbyan\\Anaconda3\\Scripts\\chromedriver.exe\")\n",
    "'''\n",
    "log_in_url = 'https://www.linkedin.com/'\n",
    "driver.get(log_in_url)\n",
    "\n",
    "emailElement = driver.find_element_by_id('login-email')\n",
    "emailElement.send_keys('bf249@scarletmail.rutgers.edu')\n",
    "\n",
    "passElement = driver.find_element_by_id('login-password')\n",
    "passElement.send_keys('6969321Hbj')\n",
    "passElement.submit()\n",
    "'''\n",
    "\n",
    "url = \"https://www.linkedin.com/jobs/search/?keywords=software%20developer&location=United%20States&locationId=us%3A0\"\n",
    "driver.get(url)\n",
    "time.sleep(2)\n",
    "html = driver.page_source\n",
    "soup = BeautifulSoup(html, 'html.parser')\n",
    "\n",
    "f = open('Linkedin_URL.txt', 'w')\n",
    "\n",
    "for text in soup.find_all('a', {\"class\":'job-title-link'}):\n",
    "    f.write(\"https://www.linkedin.com\" + text.get('href') + '\\n')\n",
    "    \n",
    "def execution_time(times):\n",
    "    for i in range(2, times + 1):\n",
    "        driver.execute_script(\"window.scrollTo(0, document.body.scrollHeight);\")\n",
    "        time.sleep(1)\n",
    "        driver.find_element_by_link_text(str(i)).click()\n",
    "        html = driver.page_source\n",
    "        soup = BeautifulSoup(html, 'html.parser')\n",
    "        for text in soup.find_all('a', {\"class\":'job-title-link'}):\n",
    "            f.write(text.get('href') + '\\n')\n",
    "            \n",
    "execution_time(40)\n",
    "\n",
    "f.close()"
   ]
  },
  {
   "cell_type": "code",
   "execution_count": null,
   "metadata": {
    "collapsed": true
   },
   "outputs": [],
   "source": [
    "\n"
   ]
  },
  {
   "cell_type": "code",
   "execution_count": null,
   "metadata": {
    "collapsed": true
   },
   "outputs": [],
   "source": []
  }
 ],
 "metadata": {
  "kernelspec": {
   "display_name": "Python 3",
   "language": "python",
   "name": "python3"
  },
  "language_info": {
   "codemirror_mode": {
    "name": "ipython",
    "version": 3
   },
   "file_extension": ".py",
   "mimetype": "text/x-python",
   "name": "python",
   "nbconvert_exporter": "python",
   "pygments_lexer": "ipython3",
   "version": "3.6.3"
  }
 },
 "nbformat": 4,
 "nbformat_minor": 2
}
