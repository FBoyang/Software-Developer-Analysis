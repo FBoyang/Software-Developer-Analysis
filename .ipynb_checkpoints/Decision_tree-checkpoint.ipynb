{
 "cells": [
  {
   "cell_type": "code",
   "execution_count": 3,
   "metadata": {},
   "outputs": [
    {
     "name": "stdout",
     "output_type": "stream",
     "text": [
      "accuracy is:  0.777529095792\n"
     ]
    }
   ],
   "source": [
    "import matplotlib.pyplot as plt\n",
    "import pandas as pd\n",
    "from sklearn.preprocessing import LabelEncoder\n",
    "from sklearn import tree\n",
    "from sklearn.model_selection import train_test_split\n",
    "from sklearn.metrics import accuracy_score\n",
    "\n",
    "df = pd.read_csv(\"one_hot.csv\")\n",
    "\n",
    "target = df.iloc[: , 0].values\n",
    "data = df.iloc[:, df.columns != 'IsSoftwareDev'].values\n",
    "\n",
    "\n",
    "sum = 0\n",
    "\n",
    "for i in range(10):\n",
    "    clf = tree.DecisionTreeClassifier()\n",
    "    X_train, X_test, y_train, y_test = train_test_split(data, target, test_size = 0.2)\n",
    "    clf.fit(X_train, y_train)\n",
    "    y_p = clf.predict(X_test)\n",
    "    sum += accuracy_score(y_test, y_p)\n",
    "\n",
    "accuracy = sum/10.0\n",
    "\n",
    "print(\"accuracy is: \", accuracy)\n"
   ]
  },
  {
   "cell_type": "code",
   "execution_count": null,
   "metadata": {},
   "outputs": [],
   "source": []
  }
 ],
 "metadata": {
  "kernelspec": {
   "display_name": "Python 3",
   "language": "python",
   "name": "python3"
  },
  "language_info": {
   "codemirror_mode": {
    "name": "ipython",
    "version": 3
   },
   "file_extension": ".py",
   "mimetype": "text/x-python",
   "name": "python",
   "nbconvert_exporter": "python",
   "pygments_lexer": "ipython3",
   "version": "3.6.3"
  }
 },
 "nbformat": 4,
 "nbformat_minor": 2
}
