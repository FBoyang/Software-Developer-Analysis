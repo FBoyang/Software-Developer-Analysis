{
 "cells": [
  {
   "cell_type": "code",
   "execution_count": null,
   "metadata": {},
   "outputs": [],
   "source": [
    "import time\n",
    "from bs4 import BeautifulSoup\n",
    "import random\n",
    "from selenium import webdriver\n",
    "from selenium.webdriver.common.keys import Keys\n",
    "from urllib.request import Request, urlopen\n",
    "\n",
    "driver = webdriver.Chrome() #Can be changed\n",
    "\n",
    "#url2 = 'https://www.linkedin.com/jobs/search/?keywords=Software%20Developer&location=Worldwide&locationId=OTHERS.worldwide'\n",
    "url ='https://www.google.com/search?client=ubuntu&hs=Y4q&channel=fs&ei=zeNtWvuuDIW2zwKK45-IDA&q=linkedin+software+developer+jobs&oq=linkedin+software+developer+jo&gs_l=psy-ab.1.0.0j0i22i30k1l3.7626.12395.0.14246.13.13.0.0.0.0.169.1500.5j8.13.0....0...1c.1.64.psy-ab..0.13.1493...0i67k1.0.pdDGaoWhWPI&ibp=htl;jobs&sa=X&ved=0ahUKEwiI57bR9PrYAhXE2lMKHVIsAxQQiYsCCFUoAQ#fpstate=tldetail&htidocid=cL_9ZSLGsMxLkEJbAAAAAA%3D%3D&htivrt=jobs'\n",
    "driver.get(url)\n",
    "time.sleep(5)\n",
    "\n",
    "\n",
    "def execute_times(times):\n",
    "    for i in range(times + 1):\n",
    "        driver.execute_script(\"window.scrollTo(0, document.body.scrollHeight);\")\n",
    "        time.sleep(20)\n",
    "\n",
    "execute_times(50)\n",
    "html = driver.page_source\n",
    "soup = BeautifulSoup(html,'html.parser') #lxml\n",
    "f = open('job.txt', 'w')\n",
    "infor = 0\n",
    "for text in soup.find_all('span',{\"class\":\"_zMk\"}):\n",
    "    #Read More...<class = _t1q>\n",
    "    infor += 1\n",
    "    f.write(text.text)\n",
    "f.close()\n",
    "#req = Request(url2, headers={('User-Agent': \"Mozilla/5.0 (X11; Linux x86_64) AppleWebKit/537.36 (KHTML, like Gecko) Chrome/39.0.2171.71 Safari/537.36)}\n",
    "\n",
    "#webpage = urlopen(req).read()\n",
    "\n",
    "#print(webpage)"
   ]
  },
  {
   "cell_type": "code",
   "execution_count": null,
   "metadata": {
    "collapsed": true
   },
   "outputs": [],
   "source": []
  },
  {
   "cell_type": "code",
   "execution_count": null,
   "metadata": {
    "collapsed": true
   },
   "outputs": [],
   "source": []
  }
 ],
 "metadata": {
  "kernelspec": {
   "display_name": "Python 3",
   "language": "python",
   "name": "python3"
  },
  "language_info": {
   "codemirror_mode": {
    "name": "ipython",
    "version": 3
   },
   "file_extension": ".py",
   "mimetype": "text/x-python",
   "name": "python",
   "nbconvert_exporter": "python",
   "pygments_lexer": "ipython3",
   "version": "3.6.2"
  }
 },
 "nbformat": 4,
 "nbformat_minor": 2
}
