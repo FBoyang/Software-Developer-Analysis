{
 "cells": [
  {
   "cell_type": "code",
   "execution_count": 3,
   "metadata": {},
   "outputs": [
    {
     "ename": "AttributeError",
     "evalue": "module 'sys' has no attribute 'setdefaultencoding'",
     "output_type": "error",
     "traceback": [
      "\u001b[1;31m---------------------------------------------------------------------------\u001b[0m",
      "\u001b[1;31mAttributeError\u001b[0m                            Traceback (most recent call last)",
      "\u001b[1;32m<ipython-input-3-c867e59c7627>\u001b[0m in \u001b[0;36m<module>\u001b[1;34m()\u001b[0m\n\u001b[0;32m      8\u001b[0m \u001b[1;32mfrom\u001b[0m \u001b[0murllib\u001b[0m\u001b[1;33m.\u001b[0m\u001b[0mrequest\u001b[0m \u001b[1;32mimport\u001b[0m \u001b[0mRequest\u001b[0m\u001b[1;33m,\u001b[0m \u001b[0murlopen\u001b[0m\u001b[1;33m\u001b[0m\u001b[0m\n\u001b[0;32m      9\u001b[0m \u001b[0mreload\u001b[0m\u001b[1;33m(\u001b[0m\u001b[0msys\u001b[0m\u001b[1;33m)\u001b[0m\u001b[1;33m\u001b[0m\u001b[0m\n\u001b[1;32m---> 10\u001b[1;33m \u001b[0msys\u001b[0m\u001b[1;33m.\u001b[0m\u001b[0msetdefaultencoding\u001b[0m\u001b[1;33m(\u001b[0m\u001b[1;34m'utf-8'\u001b[0m\u001b[1;33m)\u001b[0m\u001b[1;33m\u001b[0m\u001b[0m\n\u001b[0m\u001b[0;32m     11\u001b[0m \u001b[1;33m\u001b[0m\u001b[0m\n\u001b[0;32m     12\u001b[0m \u001b[1;33m\u001b[0m\u001b[0m\n",
      "\u001b[1;31mAttributeError\u001b[0m: module 'sys' has no attribute 'setdefaultencoding'"
     ]
    }
   ],
   "source": [
    "import sys\n",
    "from importlib import reload\n",
    "import time\n",
    "from bs4 import BeautifulSoup\n",
    "import random\n",
    "from selenium import webdriver\n",
    "from selenium.webdriver.common.keys import Keys\n",
    "from urllib.request import Request, urlopen\n",
    "reload(sys)\n",
    "\n",
    "\n",
    "\n",
    "driver = webdriver.Chrome(executable_path=r\"C:\\Users\\fbyan\\Miniconda3\\Scripts\\chromedriver.exe\") #Can be changed\n",
    "\n",
    "#url2 = 'https://www.linkedin.com/jobs/search/?keywords=Software%20Developer&location=Worldwide&locationId=OTHERS.worldwide'\n",
    "url ='https://www.glassdoor.com/Job/software-developer-jobs-SRCH_KO0,18.htm'\n",
    "driver.get(url)\n",
    "time.sleep(2)\n",
    "infor = 0\n",
    "\n",
    "#create a new file in the current directory called job.txt\n",
    "f = open('job.txt', 'w')\n",
    "#find content in the first page\n",
    "html = driver.page_source\n",
    "soup = BeautifulSoup(html,'html.parser') #lxml\n",
    "for text in soup.find_all('div',{\"class\":\"jobDescriptionContent desc\"}):\n",
    "    infor += 1\n",
    "    f.write(text.text)\n",
    "\n",
    "#deal with the pop-up window in the second page\n",
    "driver.find_element_by_link_text(str(2)).click()\n",
    "time.sleep(2)\n",
    "driver.find_element_by_xpath(\"//button[@type='button' and @class='mfp-close']\").click()\n",
    "time.sleep(1)\n",
    "html = driver.page_source\n",
    "soup = BeautifulSoup(html,'html.parser') #lxml\n",
    "for text in soup.find_all('div',{\"class\":\"jobDescriptionContent desc\"}):\n",
    "            infor += 1\n",
    "            f.write(text.text)\n",
    "\n",
    "def execute_times(times, infor):\n",
    "    for i in range(3, times + 1):\n",
    "        driver.find_element_by_link_text(str(i)).click()\n",
    "        #driver.execute_script(\"window.scrollTo(0, document.body.scrollHeight);\")\n",
    "        time.sleep(2)\n",
    "        \n",
    "        #record the number of job discreption into infor (further we will need to record more metadata, so later we will apply numpy\n",
    "        #but first check wether the number is correct)\n",
    "        html = driver.page_source\n",
    "        soup = BeautifulSoup(html,'html.parser') #lxml\n",
    "        for text in soup.find_all('div',{\"class\":\"jobDescriptionContent desc\"}):\n",
    "            infor += 1\n",
    "            f.write(text.text)\n",
    "            \n",
    "execute_times(100, infor)\n",
    "\n",
    "f.write(\"data size is: \" + str(infor))\n",
    "f.close()"
   ]
  },
  {
   "cell_type": "code",
   "execution_count": null,
   "metadata": {
    "collapsed": true
   },
   "outputs": [],
   "source": []
  },
  {
   "cell_type": "code",
   "execution_count": null,
   "metadata": {
    "collapsed": true
   },
   "outputs": [],
   "source": []
  }
 ],
 "metadata": {
  "kernelspec": {
   "display_name": "Python 3",
   "language": "python",
   "name": "python3"
  },
  "language_info": {
   "codemirror_mode": {
    "name": "ipython",
    "version": 3
   },
   "file_extension": ".py",
   "mimetype": "text/x-python",
   "name": "python",
   "nbconvert_exporter": "python",
   "pygments_lexer": "ipython3",
   "version": "3.6.2"
  }
 },
 "nbformat": 4,
 "nbformat_minor": 2
}
