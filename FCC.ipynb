{
 "cells": [
  {
   "cell_type": "code",
   "execution_count": 6,
   "metadata": {},
   "outputs": [
    {
     "name": "stdout",
     "output_type": "stream",
     "text": [
      "done\n"
     ]
    }
   ],
   "source": [
    "import pandas as pd\n",
    "from sklearn.preprocessing import LabelEncoder\n",
    "from sklearn.linear_model import LogisticRegression\n",
    "df = pd.read_csv(\"FCCn.csv\")\n",
    "#extract x value and y value\n",
    "y_df = df.iloc[:, 0]\n",
    "x_df = df.iloc[:, df.columns != 'IsSoftwareDev']\n",
    "\n",
    "obj_df = x_df.select_dtypes(include=['object']).copy()\n",
    "float_df = x_df.select_dtypes(exclude=['object']).copy()\n",
    "\n",
    "n_obj_df = pd.DataFrame()\n",
    "\n",
    "#convert obj type feature to one hot number\n",
    "for i in range(obj_df.shape[1]):\n",
    "    x_dummies = pd.get_dummies(obj_df.iloc[:, i].values)\n",
    "    n_obj_df = pd.concat([x_dummies, n_obj_df], axis = 1)\n",
    "    \n",
    "\n",
    "x_value = pd.concat([n_obj_df, float_df], axis = 1).values \n",
    "y_value = y_df.values\n",
    "#n_df = pd.concat(float_df, n_obj_df)\n",
    "\n",
    "ndf = pd.concat([y_df, n_obj_df, float_df], axis = 1)\n",
    "ndf.to_csv(\"one_hot.csv\", sep = ',')\n",
    "\n",
    "\n",
    "'''\n",
    "with open(\"value.txt\" ,'w') as file:\n",
    "    for item in x_value:\n",
    "        for i in item:\n",
    "            file.write(\"%d ,\"% i)\n",
    "'''\n",
    "print(\"done\")"
   ]
  },
  {
   "cell_type": "code",
   "execution_count": 5,
   "metadata": {},
   "outputs": [
    {
     "data": {
      "text/plain": [
       "0        0.0\n",
       "1        0.0\n",
       "2        0.0\n",
       "3        0.0\n",
       "4        0.0\n",
       "5        0.0\n",
       "6        1.0\n",
       "7        0.0\n",
       "8        1.0\n",
       "9        0.0\n",
       "10       0.0\n",
       "11       0.0\n",
       "12       0.0\n",
       "13       0.0\n",
       "14       0.0\n",
       "15       1.0\n",
       "16       1.0\n",
       "17       0.0\n",
       "18       1.0\n",
       "19       0.0\n",
       "20       0.0\n",
       "21       1.0\n",
       "22       1.0\n",
       "23       0.0\n",
       "24       0.0\n",
       "25       0.0\n",
       "26       0.0\n",
       "27       1.0\n",
       "28       0.0\n",
       "29       1.0\n",
       "        ... \n",
       "15590    1.0\n",
       "15591    0.0\n",
       "15592    0.0\n",
       "15593    1.0\n",
       "15594    1.0\n",
       "15595    0.0\n",
       "15596    1.0\n",
       "15597    0.0\n",
       "15598    0.0\n",
       "15599    1.0\n",
       "15600    1.0\n",
       "15601    0.0\n",
       "15602    0.0\n",
       "15603    1.0\n",
       "15604    0.0\n",
       "15605    0.0\n",
       "15606    0.0\n",
       "15607    1.0\n",
       "15608    0.0\n",
       "15609    1.0\n",
       "15610    0.0\n",
       "15611    0.0\n",
       "15612    0.0\n",
       "15613    0.0\n",
       "15614    0.0\n",
       "15615    0.0\n",
       "15616    0.0\n",
       "15617    0.0\n",
       "15618    1.0\n",
       "15619    0.0\n",
       "Name: IsSoftwareDev, Length: 15620, dtype: float64"
      ]
     },
     "execution_count": 5,
     "metadata": {},
     "output_type": "execute_result"
    }
   ],
   "source": [
    "y_df"
   ]
  },
  {
   "cell_type": "code",
   "execution_count": null,
   "metadata": {},
   "outputs": [],
   "source": []
  },
  {
   "cell_type": "code",
   "execution_count": null,
   "metadata": {},
   "outputs": [],
   "source": []
  },
  {
   "cell_type": "code",
   "execution_count": null,
   "metadata": {},
   "outputs": [],
   "source": []
  }
 ],
 "metadata": {
  "kernelspec": {
   "display_name": "Python 3",
   "language": "python",
   "name": "python3"
  },
  "language_info": {
   "codemirror_mode": {
    "name": "ipython",
    "version": 3
   },
   "file_extension": ".py",
   "mimetype": "text/x-python",
   "name": "python",
   "nbconvert_exporter": "python",
   "pygments_lexer": "ipython3",
   "version": "3.6.3"
  }
 },
 "nbformat": 4,
 "nbformat_minor": 2
}
