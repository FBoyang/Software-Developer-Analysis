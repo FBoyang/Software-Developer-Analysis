{
 "cells": [
  {
   "cell_type": "code",
   "execution_count": 6,
   "metadata": {},
   "outputs": [
    {
     "name": "stdout",
     "output_type": "stream",
     "text": [
      "done\n"
     ]
    }
   ],
   "source": [
    "from sklearn.svm import LinearSVC\n",
    "import matplotlib.pyplot as plt\n",
    "import pandas as pd\n",
    "from sklearn.preprocessing import LabelEncoder\n",
    "from sklearn.linear_model import LogisticRegression\n",
    "from sklearn import tree\n",
    "\n",
    "\n",
    "df = pd.read_csv(\"FCCn.csv\")\n",
    "#extract x value and y value\n",
    "y_df = df.iloc[:, 0]\n",
    "x_df = df.iloc[:, df.columns != 'IsSoftwareDev']\n",
    "\n",
    "obj_df = x_df.select_dtypes(include=['object']).copy()\n",
    "float_df = x_df.select_dtypes(exclude=['object']).copy()\n",
    "\n",
    "n_obj_df = pd.DataFrame()\n",
    "\n",
    "#convert obj type feature to one hot number\n",
    "for i in range(obj_df.shape[1]):\n",
    "    x_dummies = pd.get_dummies(obj_df.iloc[:, i].values)\n",
    "    n_obj_df = pd.concat([x_dummies, n_obj_df], axis = 1)\n",
    "    \n",
    "\n",
    "x_value = pd.concat([n_obj_df, float_df], axis = 1).values \n",
    "y_value = y_df.values\n",
    "\n",
    "n_df = pd.concat([y_df, n_obj_df, float_df], axis = 1)\n",
    "\n",
    "n_df.to_csv(\"one_hot.csv\", sep = ',')\n",
    "print(\"done\")\n",
    "\n"
   ]
  },
  {
   "cell_type": "code",
   "execution_count": null,
   "metadata": {},
   "outputs": [],
   "source": []
  }
 ],
 "metadata": {
  "kernelspec": {
   "display_name": "Python 3",
   "language": "python",
   "name": "python3"
  },
  "language_info": {
   "codemirror_mode": {
    "name": "ipython",
    "version": 3
   },
   "file_extension": ".py",
   "mimetype": "text/x-python",
   "name": "python",
   "nbconvert_exporter": "python",
   "pygments_lexer": "ipython3",
   "version": "3.6.3"
  }
 },
 "nbformat": 4,
 "nbformat_minor": 2
}
