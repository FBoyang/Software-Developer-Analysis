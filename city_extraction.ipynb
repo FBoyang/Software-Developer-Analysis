{
 "cells": [
  {
   "cell_type": "code",
   "execution_count": 4,
   "metadata": {},
   "outputs": [
    {
     "name": "stdout",
     "output_type": "stream",
     "text": [
      "done\n"
     ]
    }
   ],
   "source": [
    "import re\n",
    "import csv\n",
    "file = open('city.csv', 'w', newline = \"\")\n",
    "state = csv.writer(file)\n",
    "with open(\"company_glassdoor.txt\") as f:\n",
    "    content = f.readlines()\n",
    "    \n",
    "dict = {}\n",
    "for line in content:\n",
    "    comp = re.split('\\xa0|-|,|\\n', line)\n",
    "    if not comp[-3] in dict:\n",
    "        dict[comp[-3]] = 1\n",
    "    else:\n",
    "        dict[comp[-3]] += 1\n",
    "\n",
    "for key, value in dict.items():\n",
    "    state.writerow([key] + [str(value)])\n",
    "file.close()   \n",
    "print(\"done\")\n",
    "\n"
   ]
  },
  {
   "cell_type": "code",
   "execution_count": null,
   "metadata": {
    "collapsed": true
   },
   "outputs": [],
   "source": []
  }
 ],
 "metadata": {
  "kernelspec": {
   "display_name": "Python 3",
   "language": "python",
   "name": "python3"
  },
  "language_info": {
   "codemirror_mode": {
    "name": "ipython",
    "version": 3
   },
   "file_extension": ".py",
   "mimetype": "text/x-python",
   "name": "python",
   "nbconvert_exporter": "python",
   "pygments_lexer": "ipython3",
   "version": "3.6.3"
  }
 },
 "nbformat": 4,
 "nbformat_minor": 2
}
