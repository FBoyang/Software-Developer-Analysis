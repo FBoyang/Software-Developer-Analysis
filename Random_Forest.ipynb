{
 "cells": [
  {
   "cell_type": "code",
   "execution_count": 26,
   "metadata": {},
   "outputs": [
    {
     "name": "stdout",
     "output_type": "stream",
     "text": [
      "accuracy is:  0.838384064458\n",
      "done\n"
     ]
    }
   ],
   "source": [
    "from sklearn.ensemble import RandomForestClassifier\n",
    "import pandas as pd\n",
    "from sklearn.model_selection import train_test_split\n",
    "from sklearn.metrics import accuracy_score\n",
    "\n",
    "df = pd.read_csv(\"one_hot.csv\")\n",
    "\n",
    "target = df.iloc[: , 0].values\n",
    "features = df.iloc[:, df.columns != 'IsSoftwareDev'].values\n",
    "\n",
    "sum = 0\n",
    "for i in range(20):\n",
    "    clf = RandomForestClassifier(n_estimators = 100, random_state = 1)\n",
    "    X_train, X_test, y_train, y_test = train_test_split(features, target, test_size = 0.2)\n",
    "    clf.fit(X_train, y_train)\n",
    "    y_p = clf.predict(X_test)\n",
    "    sum += accuracy_score(y_test, y_p)\n",
    "\n",
    "accuracy = sum/20.0\n",
    "\n",
    "'''\n",
    "forest = RandomForestClassifier(max_depth = 10, min_samples_split = 50, n_estimators = 100, random_state = 1)\n",
    "X_train, X_test, y_train, y_test = train_test_split(features, target, test_size = 0.25)\n",
    "fit_forest = forest.fit(X_train, y_train)\n",
    "result = fit_forest.predict(X_test)\n",
    "accuracy = fit_forest.score(features, target)\n",
    "'''\n",
    "\n",
    "print(\"accuracy is: \", accuracy)\n",
    "print(\"done\")"
   ]
  },
  {
   "cell_type": "code",
   "execution_count": null,
   "metadata": {
    "collapsed": true
   },
   "outputs": [],
   "source": []
  }
 ],
 "metadata": {
  "kernelspec": {
   "display_name": "Python 3",
   "language": "python",
   "name": "python3"
  },
  "language_info": {
   "codemirror_mode": {
    "name": "ipython",
    "version": 3
   },
   "file_extension": ".py",
   "mimetype": "text/x-python",
   "name": "python",
   "nbconvert_exporter": "python",
   "pygments_lexer": "ipython3",
   "version": "3.6.3"
  }
 },
 "nbformat": 4,
 "nbformat_minor": 2
}
