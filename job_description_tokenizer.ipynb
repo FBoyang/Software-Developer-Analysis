{
 "cells": [
  {
   "cell_type": "code",
   "execution_count": 31,
   "metadata": {},
   "outputs": [
    {
     "name": "stdout",
     "output_type": "stream",
     "text": [
      "[[1, ['our', 'company', 'creates', 'some', 'of', 'the', 'worlds', 'most', 'software', 'products', 'and', 'we', 'want', 'you', 'to', 'be', 'a', 'part', 'of', 'our', 'team', 'we', 'are', 'currently', 'in', 'search', 'of', 'an', 'experienced', 'software', 'developer', 'to', 'create', 'and', 'maintain', 'software', 'inhouse', 'hardware', 'and', 'network', 'systems']], [1, ['the', 'successful', 'candidate', 'will', 'also', 'help', 'to', 'develop', 'critical', 'products', 'for', 'our', 'clients', 'and', 'offer', 'excellent', 'technical', 'support']], [1, ['this', 'is', 'a', 'fantastic', 'opportunity', 'to', 'engage', 'in', 'a', 'positive', 'and', 'creative', 'work', 'environment', 'that', 'offers', 'excellent', 'benefits', 'and', 'flexible', 'schedules']]]\n"
     ]
    }
   ],
   "source": [
    "import numpy as np\n",
    "import pandas as pd\n",
    "from numpy import linalg as LA\n",
    "\n",
    "'''Word trimming'''\n",
    "def wordTrim(token):\n",
    "    token = token.strip()\n",
    "    return \"\".join(filter(lambda x: x.isalpha(),token))\n",
    "\n",
    "'''Create the predefined word vectors'''\n",
    "def makeWordVecDF(file):\n",
    "    word_vectors = open(file, 'r').readlines()\n",
    "    \n",
    "    wordVec_dic = {}\n",
    "    for word in word_vectors:\n",
    "        vec = word.split()\n",
    "        wordVec_dic[vec[0]] = [float(i) for i in vec[1:]]\n",
    "    return pd.DataFrame(wordVec_dic)\n",
    "\n",
    "'''SD job descriptions'''\n",
    "def createSDJobDes(file):\n",
    "    JD_dataset = []\n",
    "    SD_jobDes_list = open(file,'r').readlines()\n",
    "    for entry in SD_jobDes_list:\n",
    "        token_list = entry.split()\n",
    "        trimmed_list = []\n",
    "        for token in token_list:\n",
    "            token = wordTrim(token).lower()\n",
    "            if (token in wordVecDF):\n",
    "                trimmed_list.append(token)\n",
    "        JD_dataset.append([1, trimmed_list])\n",
    "    return JD_dataset\n",
    "\n",
    "'''Non-SD job descriptions'''\n",
    "def createNonSDJobDes(file):\n",
    "    nJD_dataset = []\n",
    "    nSD_jobDes_list = open(file,'r').readlines()\n",
    "    for entry in nSD_jobDes_list:\n",
    "        token_list = entry.split()\n",
    "        trimmed_list = []\n",
    "        for token in token_list:\n",
    "            token = wordTrim(token).lower()\n",
    "            if (token in wordVecDF):\n",
    "                trimmed_list.append(token)\n",
    "        nJD_dataset.append([0, trimmed_list])\n",
    "    return nJD_dataset\n",
    "\n",
    "'''Tokenize each job description, store a dictionary of a label'''\n",
    "wordVecDF = makeWordVecDF(\"glove.6B.50d.txt\")\n",
    "sd = createSDJobDes(\"job.txt\")\n",
    "non_sd = createNonSDJobDes(\"job2.txt\")"
   ]
  },
  {
   "cell_type": "code",
   "execution_count": null,
   "metadata": {
    "collapsed": true
   },
   "outputs": [],
   "source": []
  },
  {
   "cell_type": "code",
   "execution_count": null,
   "metadata": {
    "collapsed": true
   },
   "outputs": [],
   "source": []
  }
 ],
 "metadata": {
  "kernelspec": {
   "display_name": "Python 3",
   "language": "python",
   "name": "python3"
  },
  "language_info": {
   "codemirror_mode": {
    "name": "ipython",
    "version": 3
   },
   "file_extension": ".py",
   "mimetype": "text/x-python",
   "name": "python",
   "nbconvert_exporter": "python",
   "pygments_lexer": "ipython3",
   "version": "3.6.3"
  }
 },
 "nbformat": 4,
 "nbformat_minor": 2
}
