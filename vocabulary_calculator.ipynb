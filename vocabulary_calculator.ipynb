{
 "cells": [
  {
   "cell_type": "code",
   "execution_count": 40,
   "metadata": {
    "scrolled": false
   },
   "outputs": [
    {
     "name": "stdout",
     "output_type": "stream",
     "text": [
      "done\n"
     ]
    }
   ],
   "source": [
    "import csv\n",
    "from sklearn.feature_extraction.text import CountVectorizer\n",
    "#######################################\n",
    "#Ruoting's part\n",
    "#Parse noise words into a LIST\n",
    "noiseWords = []\n",
    "noise_file = open(\"noisewords.txt\", \"r\")\n",
    "\n",
    "while True:\n",
    "    n_word = noise_file.readline().strip('\\n')\n",
    "    if n_word == \"\":\n",
    "        break\n",
    "    if n_word not in noiseWords:\n",
    "        noiseWords.append(n_word)   \n",
    "    \n",
    "noise_file.close()\n",
    "\n",
    "\n",
    "\n",
    "#######################################\n",
    "\n",
    "#Boyang's part\n",
    "key_word_dict = {}\n",
    "\n",
    "job_dis_file = open(\"job.txt\", 'r', encoding = 'utf8')\n",
    "while True:\n",
    "    job_dis = job_dis_file.readline()\n",
    "    if (job_dis == \"\"):\n",
    "        break\n",
    "    else:\n",
    "        for word in job_dis.split():\n",
    "            if word not in noiseWords:\n",
    "                if not word in key_word_dict:\n",
    "                    #if the key word not in dictionary, add it \n",
    "                    key_word_dict.update({word: 1})\n",
    "                else:\n",
    "                    #if the key word in the dictionary, increment it\n",
    "                    key_word_dict[word] += 1\n",
    "\n",
    "\n",
    "\n",
    "########################################\n",
    "job_dis_file.close()\n",
    "j = open(\"job.txt\", 'r', encoding = 'utf8')\n",
    "vectorizer = CountVectorizer( encoding = 'utf-8', lowercase = True, ngram_range = (1,2))\n",
    "titleTokens = vectorizer.fit_transform(j)\n",
    "\n",
    "freq_array = titleTokens.toarray()\n",
    "\n",
    "with open('frequency.csv', 'w', encoding=\"utf8\", newline = '') as csvfile:\n",
    "    fieldnames = ['word', 'freq']\n",
    "    writer = csv.DictWriter(csvfile, fieldnames = fieldnames)\n",
    "    for key, value in key_word_dict.items():\n",
    "        writer.writerow({'word': key.lower().strip(\",\\\\()*\") , 'freq': value} )\n",
    "    '''\n",
    "    for word in vectorizer.vocabulary_:\n",
    "        index = vectorizer.vocabulary_.get(word)\n",
    "        print(word)\n",
    "        summation = sum(i[index] for i in freq_array)\n",
    "        writer.writerow({'word': word, 'freq' :summation})\n",
    "    '''\n",
    "        \n",
    "        \n",
    "\n",
    "print(\"done\") "
   ]
  },
  {
   "cell_type": "code",
   "execution_count": null,
   "metadata": {
    "collapsed": true
   },
   "outputs": [],
   "source": []
  },
  {
   "cell_type": "code",
   "execution_count": null,
   "metadata": {
    "collapsed": true
   },
   "outputs": [],
   "source": []
  }
 ],
 "metadata": {
  "kernelspec": {
   "display_name": "Python 3",
   "language": "python",
   "name": "python3"
  },
  "language_info": {
   "codemirror_mode": {
    "name": "ipython",
    "version": 3
   },
   "file_extension": ".py",
   "mimetype": "text/x-python",
   "name": "python",
   "nbconvert_exporter": "python",
   "pygments_lexer": "ipython3",
   "version": "3.6.3"
  }
 },
 "nbformat": 4,
 "nbformat_minor": 2
}
